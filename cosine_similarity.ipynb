{
 "cells": [
  {
   "cell_type": "code",
   "execution_count": 1,
   "metadata": {},
   "outputs": [],
   "source": [
    "import numpy as np\n",
    "import wikipedia\n",
    "# Scikit Learn\n",
    "from sklearn.feature_extraction.text import CountVectorizer\n",
    "from sklearn.feature_extraction.text import TfidfVectorizer\n",
    "import pandas as pd"
   ]
  },
  {
   "cell_type": "code",
   "execution_count": 2,
   "metadata": {},
   "outputs": [],
   "source": [
    "#data list -we will collect data from wikipedia\n",
    "data_list=['Christiano ronaldo','Lionel messi','Bill gates','machine learning','AI','cosine similarity']"
   ]
  },
  {
   "cell_type": "code",
   "execution_count": 9,
   "metadata": {},
   "outputs": [],
   "source": [
    "#import data from wikipedia\n",
    "dataset={}\n",
    "for i in data_list:\n",
    "    try:\n",
    "        dataset[i]=wikipedia.summary(i,sentences=1)\n",
    "    except wikipedia.DisambiguationError as e:\n",
    "        rec = e.options\n",
    "        dataset[i]=wikipedia.summary(rec[0],sentences=1) "
   ]
  },
  {
   "cell_type": "code",
   "execution_count": 8,
   "metadata": {},
   "outputs": [
    {
     "name": "stdout",
     "output_type": "stream",
     "text": [
      "Cristiano Ronaldo dos Santos Aveiro GOIH ComM (European Portuguese: [kɾiʃˈtjɐnu ʁoˈnaɫdu]; born 5 February 1985) is a Portuguese professional footballer who plays as a forward for Italian club Juventus and captains the Portugal national team.\n"
     ]
    }
   ],
   "source": [
    "print dataset['Christiano ronaldo']"
   ]
  },
  {
   "cell_type": "code",
   "execution_count": 10,
   "metadata": {},
   "outputs": [
    {
     "data": {
      "text/plain": [
       "['Christiano ronaldo',\n",
       " 'AI',\n",
       " 'Lionel messi',\n",
       " 'machine learning',\n",
       " 'Bill gates',\n",
       " 'cosine similarity']"
      ]
     },
     "execution_count": 10,
     "metadata": {},
     "output_type": "execute_result"
    }
   ],
   "source": [
    "dataset.keys()"
   ]
  },
  {
   "cell_type": "code",
   "execution_count": 15,
   "metadata": {},
   "outputs": [],
   "source": [
    "data=[]\n",
    "for k,v in dataset.items():\n",
    "    data.append(v)\n",
    "    "
   ]
  },
  {
   "cell_type": "code",
   "execution_count": 16,
   "metadata": {},
   "outputs": [
    {
     "data": {
      "text/plain": [
       "[u'Cristiano Ronaldo dos Santos Aveiro GOIH ComM (European Portuguese: [k\\u027ei\\u0283\\u02c8tj\\u0250nu \\u0281o\\u02c8na\\u026bdu]; born 5 February 1985) is a Portuguese professional footballer who plays as a forward for Italian club Juventus and captains the Portugal national team.',\n",
       " u'In computer science,  artificial intelligence (AI), sometimes called machine intelligence, is intelligence demonstrated by machines, in contrast to the natural intelligence displayed by humans and animals.',\n",
       " u'Lionel Andr\\xe9s Messi Cuccittini (Spanish pronunciation: [ljo\\u02c8nel an\\u02c8d\\u027eez \\u02c8mesi] (listen); born 24 June 1987) is an Argentine professional footballer who plays as a forward and captains both Spanish club Barcelona and the Argentina national team.',\n",
       " u'Machine learning (ML) is the scientific study of algorithms and statistical models that computer systems use to effectively perform a specific task without using explicit instructions, relying on patterns and inference instead.',\n",
       " u'William Henry Gates III  (born October 28, 1955) is an American business magnate, investor, author, philanthropist, and humanitarian.',\n",
       " u'Cosine similarity is a measure of similarity between two non-zero vectors of an inner product space that measures the cosine of the angle between them.']"
      ]
     },
     "execution_count": 16,
     "metadata": {},
     "output_type": "execute_result"
    }
   ],
   "source": [
    "data"
   ]
  },
  {
   "cell_type": "code",
   "execution_count": 18,
   "metadata": {},
   "outputs": [],
   "source": [
    "cv=CountVectorizer()"
   ]
  },
  {
   "cell_type": "code",
   "execution_count": 20,
   "metadata": {},
   "outputs": [],
   "source": [
    "sparse_matrix = cv.fit_transform(data)"
   ]
  },
  {
   "cell_type": "code",
   "execution_count": 22,
   "metadata": {},
   "outputs": [
    {
     "name": "stdout",
     "output_type": "stream",
     "text": [
      "  (0, 104)\t1\n",
      "  (0, 75)\t1\n",
      "  (0, 85)\t1\n",
      "  (0, 106)\t1\n",
      "  (0, 27)\t1\n",
      "  (0, 9)\t1\n",
      "  (0, 61)\t1\n",
      "  (0, 28)\t1\n",
      "  (0, 59)\t1\n",
      "  (0, 43)\t1\n",
      "  (0, 44)\t1\n",
      "  (0, 17)\t1\n",
      "  (0, 84)\t1\n",
      "  (0, 113)\t1\n",
      "  (0, 42)\t1\n",
      "  (0, 88)\t1\n",
      "  (0, 58)\t1\n",
      "  (0, 1)\t1\n",
      "  (0, 41)\t1\n",
      "  (0, 22)\t1\n",
      "  (0, 117)\t1\n",
      "  (0, 62)\t1\n",
      "  (0, 86)\t2\n",
      "  (0, 39)\t1\n",
      "  (0, 29)\t1\n",
      "  :\t:\n",
      "  (4, 47)\t1\n",
      "  (4, 114)\t1\n",
      "  (4, 8)\t1\n",
      "  (4, 9)\t1\n",
      "  (4, 58)\t1\n",
      "  (4, 22)\t1\n",
      "  (5, 107)\t1\n",
      "  (5, 11)\t1\n",
      "  (5, 71)\t1\n",
      "  (5, 97)\t1\n",
      "  (5, 87)\t1\n",
      "  (5, 53)\t1\n",
      "  (5, 112)\t1\n",
      "  (5, 116)\t1\n",
      "  (5, 77)\t1\n",
      "  (5, 109)\t1\n",
      "  (5, 21)\t2\n",
      "  (5, 70)\t1\n",
      "  (5, 95)\t2\n",
      "  (5, 32)\t2\n",
      "  (5, 105)\t1\n",
      "  (5, 79)\t3\n",
      "  (5, 8)\t1\n",
      "  (5, 106)\t2\n",
      "  (5, 58)\t1\n"
     ]
    }
   ],
   "source": [
    "print sparse_matrix"
   ]
  },
  {
   "cell_type": "code",
   "execution_count": 13,
   "metadata": {},
   "outputs": [],
   "source": [
    "df=pd.DataFrame(dataset,index=['Christiano ronaldo','Lionel messi','Bill gates','machine learning','AI','cosine similarity'])"
   ]
  },
  {
   "cell_type": "code",
   "execution_count": 14,
   "metadata": {},
   "outputs": [
    {
     "data": {
      "text/html": [
       "<div>\n",
       "<style scoped>\n",
       "    .dataframe tbody tr th:only-of-type {\n",
       "        vertical-align: middle;\n",
       "    }\n",
       "\n",
       "    .dataframe tbody tr th {\n",
       "        vertical-align: top;\n",
       "    }\n",
       "\n",
       "    .dataframe thead th {\n",
       "        text-align: right;\n",
       "    }\n",
       "</style>\n",
       "<table border=\"1\" class=\"dataframe\">\n",
       "  <thead>\n",
       "    <tr style=\"text-align: right;\">\n",
       "      <th></th>\n",
       "      <th>AI</th>\n",
       "      <th>Bill gates</th>\n",
       "      <th>Christiano ronaldo</th>\n",
       "      <th>Lionel messi</th>\n",
       "      <th>cosine similarity</th>\n",
       "      <th>machine learning</th>\n",
       "    </tr>\n",
       "  </thead>\n",
       "  <tbody>\n",
       "    <tr>\n",
       "      <th>Christiano ronaldo</th>\n",
       "      <td>In computer science,  artificial intelligence ...</td>\n",
       "      <td>William Henry Gates III  (born October 28, 195...</td>\n",
       "      <td>Cristiano Ronaldo dos Santos Aveiro GOIH ComM ...</td>\n",
       "      <td>Lionel Andrés Messi Cuccittini (Spanish pronun...</td>\n",
       "      <td>Cosine similarity is a measure of similarity b...</td>\n",
       "      <td>Machine learning (ML) is the scientific study ...</td>\n",
       "    </tr>\n",
       "    <tr>\n",
       "      <th>Lionel messi</th>\n",
       "      <td>In computer science,  artificial intelligence ...</td>\n",
       "      <td>William Henry Gates III  (born October 28, 195...</td>\n",
       "      <td>Cristiano Ronaldo dos Santos Aveiro GOIH ComM ...</td>\n",
       "      <td>Lionel Andrés Messi Cuccittini (Spanish pronun...</td>\n",
       "      <td>Cosine similarity is a measure of similarity b...</td>\n",
       "      <td>Machine learning (ML) is the scientific study ...</td>\n",
       "    </tr>\n",
       "    <tr>\n",
       "      <th>Bill gates</th>\n",
       "      <td>In computer science,  artificial intelligence ...</td>\n",
       "      <td>William Henry Gates III  (born October 28, 195...</td>\n",
       "      <td>Cristiano Ronaldo dos Santos Aveiro GOIH ComM ...</td>\n",
       "      <td>Lionel Andrés Messi Cuccittini (Spanish pronun...</td>\n",
       "      <td>Cosine similarity is a measure of similarity b...</td>\n",
       "      <td>Machine learning (ML) is the scientific study ...</td>\n",
       "    </tr>\n",
       "    <tr>\n",
       "      <th>machine learning</th>\n",
       "      <td>In computer science,  artificial intelligence ...</td>\n",
       "      <td>William Henry Gates III  (born October 28, 195...</td>\n",
       "      <td>Cristiano Ronaldo dos Santos Aveiro GOIH ComM ...</td>\n",
       "      <td>Lionel Andrés Messi Cuccittini (Spanish pronun...</td>\n",
       "      <td>Cosine similarity is a measure of similarity b...</td>\n",
       "      <td>Machine learning (ML) is the scientific study ...</td>\n",
       "    </tr>\n",
       "    <tr>\n",
       "      <th>AI</th>\n",
       "      <td>In computer science,  artificial intelligence ...</td>\n",
       "      <td>William Henry Gates III  (born October 28, 195...</td>\n",
       "      <td>Cristiano Ronaldo dos Santos Aveiro GOIH ComM ...</td>\n",
       "      <td>Lionel Andrés Messi Cuccittini (Spanish pronun...</td>\n",
       "      <td>Cosine similarity is a measure of similarity b...</td>\n",
       "      <td>Machine learning (ML) is the scientific study ...</td>\n",
       "    </tr>\n",
       "    <tr>\n",
       "      <th>cosine similarity</th>\n",
       "      <td>In computer science,  artificial intelligence ...</td>\n",
       "      <td>William Henry Gates III  (born October 28, 195...</td>\n",
       "      <td>Cristiano Ronaldo dos Santos Aveiro GOIH ComM ...</td>\n",
       "      <td>Lionel Andrés Messi Cuccittini (Spanish pronun...</td>\n",
       "      <td>Cosine similarity is a measure of similarity b...</td>\n",
       "      <td>Machine learning (ML) is the scientific study ...</td>\n",
       "    </tr>\n",
       "  </tbody>\n",
       "</table>\n",
       "</div>"
      ],
      "text/plain": [
       "                                                                   AI  \\\n",
       "Christiano ronaldo  In computer science,  artificial intelligence ...   \n",
       "Lionel messi        In computer science,  artificial intelligence ...   \n",
       "Bill gates          In computer science,  artificial intelligence ...   \n",
       "machine learning    In computer science,  artificial intelligence ...   \n",
       "AI                  In computer science,  artificial intelligence ...   \n",
       "cosine similarity   In computer science,  artificial intelligence ...   \n",
       "\n",
       "                                                           Bill gates  \\\n",
       "Christiano ronaldo  William Henry Gates III  (born October 28, 195...   \n",
       "Lionel messi        William Henry Gates III  (born October 28, 195...   \n",
       "Bill gates          William Henry Gates III  (born October 28, 195...   \n",
       "machine learning    William Henry Gates III  (born October 28, 195...   \n",
       "AI                  William Henry Gates III  (born October 28, 195...   \n",
       "cosine similarity   William Henry Gates III  (born October 28, 195...   \n",
       "\n",
       "                                                   Christiano ronaldo  \\\n",
       "Christiano ronaldo  Cristiano Ronaldo dos Santos Aveiro GOIH ComM ...   \n",
       "Lionel messi        Cristiano Ronaldo dos Santos Aveiro GOIH ComM ...   \n",
       "Bill gates          Cristiano Ronaldo dos Santos Aveiro GOIH ComM ...   \n",
       "machine learning    Cristiano Ronaldo dos Santos Aveiro GOIH ComM ...   \n",
       "AI                  Cristiano Ronaldo dos Santos Aveiro GOIH ComM ...   \n",
       "cosine similarity   Cristiano Ronaldo dos Santos Aveiro GOIH ComM ...   \n",
       "\n",
       "                                                         Lionel messi  \\\n",
       "Christiano ronaldo  Lionel Andrés Messi Cuccittini (Spanish pronun...   \n",
       "Lionel messi        Lionel Andrés Messi Cuccittini (Spanish pronun...   \n",
       "Bill gates          Lionel Andrés Messi Cuccittini (Spanish pronun...   \n",
       "machine learning    Lionel Andrés Messi Cuccittini (Spanish pronun...   \n",
       "AI                  Lionel Andrés Messi Cuccittini (Spanish pronun...   \n",
       "cosine similarity   Lionel Andrés Messi Cuccittini (Spanish pronun...   \n",
       "\n",
       "                                                    cosine similarity  \\\n",
       "Christiano ronaldo  Cosine similarity is a measure of similarity b...   \n",
       "Lionel messi        Cosine similarity is a measure of similarity b...   \n",
       "Bill gates          Cosine similarity is a measure of similarity b...   \n",
       "machine learning    Cosine similarity is a measure of similarity b...   \n",
       "AI                  Cosine similarity is a measure of similarity b...   \n",
       "cosine similarity   Cosine similarity is a measure of similarity b...   \n",
       "\n",
       "                                                     machine learning  \n",
       "Christiano ronaldo  Machine learning (ML) is the scientific study ...  \n",
       "Lionel messi        Machine learning (ML) is the scientific study ...  \n",
       "Bill gates          Machine learning (ML) is the scientific study ...  \n",
       "machine learning    Machine learning (ML) is the scientific study ...  \n",
       "AI                  Machine learning (ML) is the scientific study ...  \n",
       "cosine similarity   Machine learning (ML) is the scientific study ...  "
      ]
     },
     "execution_count": 14,
     "metadata": {},
     "output_type": "execute_result"
    }
   ],
   "source": [
    "df"
   ]
  },
  {
   "cell_type": "code",
   "execution_count": null,
   "metadata": {},
   "outputs": [],
   "source": []
  }
 ],
 "metadata": {
  "kernelspec": {
   "display_name": "Python 2",
   "language": "python",
   "name": "python2"
  },
  "language_info": {
   "codemirror_mode": {
    "name": "ipython",
    "version": 2
   },
   "file_extension": ".py",
   "mimetype": "text/x-python",
   "name": "python",
   "nbconvert_exporter": "python",
   "pygments_lexer": "ipython2",
   "version": "2.7.15"
  }
 },
 "nbformat": 4,
 "nbformat_minor": 2
}
